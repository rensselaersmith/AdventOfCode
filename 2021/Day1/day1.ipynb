{
 "cells": [
  {
   "cell_type": "code",
   "execution_count": 53,
   "metadata": {},
   "outputs": [],
   "source": [
    "with open('nums.csv') as f:\n",
    "    lines = f.readlines()\n",
    "numlines = []\n",
    "for xy in range(len(lines)):\n",
    "    numlines.append(int(lines[xy]))"
   ]
  },
  {
   "cell_type": "code",
   "execution_count": 3,
   "metadata": {},
   "outputs": [
    {
     "name": "stdout",
     "output_type": "stream",
     "text": [
      "1502\n"
     ]
    }
   ],
   "source": [
    "firstCounter = 0\n",
    "for  x in range(len(numlines)-1):\n",
    "    firstCounter += (numlines[x+1]>numlines[x])\n",
    "print(firstCounter)"
   ]
  },
  {
   "cell_type": "code",
   "execution_count": 34,
   "metadata": {},
   "outputs": [
    {
     "name": "stdout",
     "output_type": "stream",
     "text": [
      "1538\n"
     ]
    }
   ],
   "source": [
    "secondCounter = 0\n",
    "for  y in range(len(numlines)-3):\n",
    "    first = numlines[y]\n",
    "    second = numlines[y+1]\n",
    "    third = numlines[y+2]\n",
    "    fourth = numlines[y+3]\n",
    "    secondCounter += (second+third+fourth)>(first+second+third)\n",
    "print(secondCounter)"
   ]
  },
  {
   "cell_type": "markdown",
   "metadata": {},
   "source": [
    "Below item is full solution with adjustable window size"
   ]
  },
  {
   "cell_type": "code",
   "execution_count": 86,
   "metadata": {},
   "outputs": [
    {
     "name": "stdout",
     "output_type": "stream",
     "text": [
      "1502\n"
     ]
    }
   ],
   "source": [
    "with open('numbs') as q:\n",
    "    lines = q.readlines() #read in file\n",
    "for i in range(len(lines)): \n",
    "    lines[i] = int(lines[i]) #convert list of str to int\n",
    "win = 1 #choose rolling window size\n",
    "timesIncreased = 0\n",
    "for e in range(len(lines)):\n",
    "    temp = lines[e:e+win+1] #creates value selection of one wider than specified window\n",
    "    current = sum(temp[0:win]) #sum of window 1\n",
    "    next = sum(temp[1:win+1]) #sum of window 2\n",
    "    timesIncreased += next>current #if next is greater than current count up by one\n",
    "print(timesIncreased)"
   ]
  }
 ],
 "metadata": {
  "interpreter": {
   "hash": "e7f8916ae580cbff949f9824a649a2f72703a8e31832c6692f436673604354c8"
  },
  "kernelspec": {
   "display_name": "Python 3.9.9 64-bit (windows store)",
   "language": "python",
   "name": "python3"
  },
  "language_info": {
   "codemirror_mode": {
    "name": "ipython",
    "version": 3
   },
   "file_extension": ".py",
   "mimetype": "text/x-python",
   "name": "python",
   "nbconvert_exporter": "python",
   "pygments_lexer": "ipython3",
   "version": "3.9.9"
  },
  "orig_nbformat": 4
 },
 "nbformat": 4,
 "nbformat_minor": 2
}
