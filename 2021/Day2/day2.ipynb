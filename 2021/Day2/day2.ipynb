{
 "cells": [
  {
   "cell_type": "code",
   "execution_count": 2,
   "metadata": {},
   "outputs": [],
   "source": [
    "with open('nums') as q:\n",
    "    lines = q.readlines() #read in file"
   ]
  },
  {
   "cell_type": "code",
   "execution_count": 3,
   "metadata": {},
   "outputs": [
    {
     "name": "stdout",
     "output_type": "stream",
     "text": [
      "1815044\n"
     ]
    }
   ],
   "source": [
    "pos = 0\n",
    "height = 0\n",
    "for e in range(len(lines)):\n",
    "    temp = lines[e].split(' ')\n",
    "    inst = temp[0]\n",
    "    num = int(temp[1])\n",
    "    if inst == 'forward':\n",
    "        pos += num\n",
    "    if inst == 'down':\n",
    "        height += num\n",
    "    if inst == 'up':\n",
    "        height -= num\n",
    "print(pos*height)"
   ]
  },
  {
   "cell_type": "code",
   "execution_count": 4,
   "metadata": {},
   "outputs": [
    {
     "name": "stdout",
     "output_type": "stream",
     "text": [
      "1739283308\n"
     ]
    }
   ],
   "source": [
    "aim = 0\n",
    "horiz = 0\n",
    "depth = 0\n",
    "for x in range(len(lines)):\n",
    "    temp = lines[x].split(' ')\n",
    "    inst = temp[0]\n",
    "    num = int(temp[1])\n",
    "    if inst == 'down':\n",
    "        aim += num\n",
    "    if inst == 'up':\n",
    "        aim -= num\n",
    "    if inst == 'forward':\n",
    "        horiz += num\n",
    "        depth = depth + (aim * num)\n",
    "print(horiz*depth)"
   ]
  }
 ],
 "metadata": {
  "interpreter": {
   "hash": "e7f8916ae580cbff949f9824a649a2f72703a8e31832c6692f436673604354c8"
  },
  "kernelspec": {
   "display_name": "Python 3.9.9 64-bit (windows store)",
   "language": "python",
   "name": "python3"
  },
  "language_info": {
   "codemirror_mode": {
    "name": "ipython",
    "version": 3
   },
   "file_extension": ".py",
   "mimetype": "text/x-python",
   "name": "python",
   "nbconvert_exporter": "python",
   "pygments_lexer": "ipython3",
   "version": "3.9.9"
  },
  "orig_nbformat": 4
 },
 "nbformat": 4,
 "nbformat_minor": 2
}
