{
 "cells": [
  {
   "cell_type": "code",
   "execution_count": 3,
   "metadata": {},
   "outputs": [],
   "source": [
    "with open('nums') as q:\n",
    "    lines = [line.strip() for line in q.readlines()]"
   ]
  },
  {
   "cell_type": "code",
   "execution_count": 2,
   "metadata": {},
   "outputs": [
    {
     "name": "stdout",
     "output_type": "stream",
     "text": [
      "4006064\n"
     ]
    }
   ],
   "source": [
    "test = [0 for x in lines[0]]\n",
    "for e in range(len(lines)):\n",
    "    for g in range(len(lines[e])):\n",
    "        test[g] = test[g] + int(lines[e][g])\n",
    "quot = [nu/1000 for nu in test]\n",
    "gamma = [round(o) for o in quot]\n",
    "epsilon = [round(1-p) for p in quot]\n",
    "ngamma = int(''.join(str(i) for i in gamma),2)\n",
    "nepsilon = int(''.join(str(v) for v in epsilon),2)\n",
    "print(ngamma*nepsilon)"
   ]
  },
  {
   "cell_type": "code",
   "execution_count": 25,
   "metadata": {},
   "outputs": [
    {
     "name": "stdout",
     "output_type": "stream",
     "text": [
      "5941884\n"
     ]
    }
   ],
   "source": [
    "high = lines\n",
    "low = lines\n",
    "for i in range(len(lines[0])):\n",
    "    if len(high) > 1:\n",
    "        nhigh = len([x for x in high if x[i]=='0'])\n",
    "        if len(high)-nhigh >= nhigh:\n",
    "            high = [x for x in high if x[i]=='1']\n",
    "        else:\n",
    "            high = [x for x in high if x[i]=='0']\n",
    "    if len(low) > 1:\n",
    "        nlow = len([x  for x in low if x[i]=='0'])\n",
    "        if len(low)-nlow >= nlow:\n",
    "            low = [x for x in low if x[i]=='0']\n",
    "        else:\n",
    "            low = [x for x in low if x[i]=='1']\n",
    "\n",
    "print(int(high[0],2)*int(low[0],2))"
   ]
  }
 ],
 "metadata": {
  "interpreter": {
   "hash": "e7f8916ae580cbff949f9824a649a2f72703a8e31832c6692f436673604354c8"
  },
  "kernelspec": {
   "display_name": "Python 3.9.9 64-bit (windows store)",
   "language": "python",
   "name": "python3"
  },
  "language_info": {
   "codemirror_mode": {
    "name": "ipython",
    "version": 3
   },
   "file_extension": ".py",
   "mimetype": "text/x-python",
   "name": "python",
   "nbconvert_exporter": "python",
   "pygments_lexer": "ipython3",
   "version": "3.9.9"
  },
  "orig_nbformat": 4
 },
 "nbformat": 4,
 "nbformat_minor": 2
}
