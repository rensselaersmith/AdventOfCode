{
 "cells": [
  {
   "cell_type": "code",
   "execution_count": 1,
   "metadata": {},
   "outputs": [],
   "source": [
    "with open('nums') as q:\n",
    "    lines = [line.strip() for line in q.readlines()]"
   ]
  },
  {
   "cell_type": "code",
   "execution_count": 14,
   "metadata": {},
   "outputs": [],
   "source": [
    "def findCommon(e, highlow):\n",
    "    for i in range(len(e[0])):\n",
    "        if(len(e)) > 1:\n",
    "            counte = len([x for x in e if x[i]=='0'])\n",
    "            if len(e)-counte >= counte:\n",
    "                if highlow == 'high':\n",
    "                    e = [x for x in e if x[i]=='1']\n",
    "                if highlow == 'low':\n",
    "                    e = [x for x in e if x[i]=='0']\n",
    "            else:\n",
    "                if highlow == 'high':\n",
    "                    e = [x for x in e if x[i]=='0']\n",
    "                if highlow == 'low':\n",
    "                    e = [x for x in e if x[i]=='1']    \n",
    "    return int(e[0],2)\n",
    "\n"
   ]
  },
  {
   "cell_type": "code",
   "execution_count": 18,
   "metadata": {},
   "outputs": [
    {
     "name": "stdout",
     "output_type": "stream",
     "text": [
      "5941884\n"
     ]
    }
   ],
   "source": [
    "print(findCommon(lines,'high')*findCommon(lines,'low'))"
   ]
  }
 ],
 "metadata": {
  "interpreter": {
   "hash": "e7f8916ae580cbff949f9824a649a2f72703a8e31832c6692f436673604354c8"
  },
  "kernelspec": {
   "display_name": "Python 3.9.9 64-bit (windows store)",
   "language": "python",
   "name": "python3"
  },
  "language_info": {
   "codemirror_mode": {
    "name": "ipython",
    "version": 3
   },
   "file_extension": ".py",
   "mimetype": "text/x-python",
   "name": "python",
   "nbconvert_exporter": "python",
   "pygments_lexer": "ipython3",
   "version": "3.9.9"
  },
  "orig_nbformat": 4
 },
 "nbformat": 4,
 "nbformat_minor": 2
}
