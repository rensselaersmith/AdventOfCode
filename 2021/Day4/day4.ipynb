{
 "cells": [
  {
   "cell_type": "code",
   "execution_count": 1,
   "metadata": {},
   "outputs": [],
   "source": [
    "import numpy as np"
   ]
  },
  {
   "cell_type": "code",
   "execution_count": 2,
   "metadata": {},
   "outputs": [],
   "source": [
    "with open('nums') as q:\n",
    "    lines = [line.strip() for line in q.readlines()]"
   ]
  },
  {
   "cell_type": "code",
   "execution_count": 3,
   "metadata": {},
   "outputs": [],
   "source": [
    "rolls = []\n",
    "rawboards = []\n",
    "for x in range(len(lines)):\n",
    "    if x==0:\n",
    "        rolls = lines[x].split(\",\")\n",
    "    else:\n",
    "        if lines[x]!='':\n",
    "            rawboards.append(lines[x])"
   ]
  },
  {
   "cell_type": "code",
   "execution_count": 4,
   "metadata": {},
   "outputs": [],
   "source": [
    "boards = []\n",
    "count = 0\n",
    "for x in range(len(rawboards)):\n",
    "    if x % 5 == 0:\n",
    "        temp = []\n",
    "        for y in rawboards[x:x+5]:\n",
    "            temp.append(y.split())\n",
    "        boards.append(temp)"
   ]
  },
  {
   "cell_type": "code",
   "execution_count": 5,
   "metadata": {},
   "outputs": [],
   "source": [
    "def checkSolution(x):\n",
    "    y = np.asarray(x)\n",
    "    z = np.fliplr(y)\n",
    "    if 5 in [sum(i) for i in zip(*x)]:\n",
    "        return True\n",
    "    elif 5 in [sum(i) for i in zip(*x)]:\n",
    "        return True\n",
    "    elif np.trace(y) == 5:\n",
    "        return True\n",
    "    elif np.trace(z) == 5:\n",
    "        return True\n",
    "    else: return False\n",
    "    "
   ]
  },
  {
   "cell_type": "code",
   "execution_count": 6,
   "metadata": {},
   "outputs": [],
   "source": [
    "def checkBoard(board):\n",
    "    id = [[0,0,0,0,0],[0,0,0,0,0],[0,0,0,0,0],[0,0,0,0,0],[0,0,0,0,0]]\n",
    "    for x in range(len(rolls)):#what number roll are we on\n",
    "        for y in range(len(board)):#what row\n",
    "            for z in range(len(board[y])):#what column\n",
    "                if rolls[x]==board[y][z]:\n",
    "                    id[y][z]=1\n",
    "                    if (x>3):\n",
    "                        if checkSolution(id) == True:\n",
    "                            return(x)\n",
    "    return(-1)"
   ]
  },
  {
   "cell_type": "code",
   "execution_count": 21,
   "metadata": {},
   "outputs": [
    {
     "name": "stdout",
     "output_type": "stream",
     "text": [
      "[['51', '89', '37', '46', '29'], ['69', '56', '71', '9', '91'], ['28', '54', '7', '16', '31'], ['67', '5', '97', '42', '43'], ['98', '32', '65', '34', '30']]\n",
      "451\n",
      "71\n"
     ]
    }
   ],
   "source": [
    "for x in range(len(boards)):\n",
    "    test = []\n",
    "    test.append([checkBoard(boards[x]),x]) #rolls index, board index\n",
    "bla = min(test)\n",
    "temp = boards[bla[1]]\n",
    "check = rolls[0:bla[0]+1]\n",
    "count = 0\n",
    "for t in temp:\n",
    "    for e in t:\n",
    "        if e not in check:\n",
    "            f = int(e)\n",
    "            count += f\n",
    "print(temp)\n",
    "print(count)\n",
    "print(check[-1])\n",
    "#print(count* int(rolls[bla[0]]))\n"
   ]
  },
  {
   "cell_type": "code",
   "execution_count": 8,
   "metadata": {},
   "outputs": [
    {
     "name": "stdout",
     "output_type": "stream",
     "text": [
      "68\n",
      "72\n",
      "76\n",
      "79\n",
      "81\n",
      "84\n",
      "86\n",
      "88\n",
      "91\n",
      "93\n",
      "95\n"
     ]
    }
   ],
   "source": [
    "board = boards[0]\n",
    "ids = [[[0,0,0,0,0],[0,0,0,0,0],[0,0,0,0,0],[0,0,0,0,0],[0,0,0,0,0]]]*100\n",
    "id = ids[0]\n",
    "count = 0\n",
    "for x in range(len(rolls)):#what number roll are we on\n",
    "    for y in range(len(board)):#what row\n",
    "        for z in range(len(board[y])):#what column\n",
    "            if rolls[x]==board[y][z]:\n",
    "                id[y][z]=1\n",
    "                if (x>3):\n",
    "                    if checkSolution(id) == True:\n",
    "                        print(x)"
   ]
  }
 ],
 "metadata": {
  "interpreter": {
   "hash": "e7f8916ae580cbff949f9824a649a2f72703a8e31832c6692f436673604354c8"
  },
  "kernelspec": {
   "display_name": "Python 3.9.9 64-bit (windows store)",
   "language": "python",
   "name": "python3"
  },
  "language_info": {
   "codemirror_mode": {
    "name": "ipython",
    "version": 3
   },
   "file_extension": ".py",
   "mimetype": "text/x-python",
   "name": "python",
   "nbconvert_exporter": "python",
   "pygments_lexer": "ipython3",
   "version": "3.8.10"
  },
  "orig_nbformat": 4
 },
 "nbformat": 4,
 "nbformat_minor": 2
}
